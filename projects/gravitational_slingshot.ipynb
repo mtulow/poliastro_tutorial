{
 "cells": [
  {
   "cell_type": "code",
   "execution_count": 7,
   "id": "6096e65f",
   "metadata": {},
   "outputs": [],
   "source": [
    "import math\n",
    "import numpy as np"
   ]
  },
  {
   "cell_type": "code",
   "execution_count": 8,
   "id": "051e8fa2",
   "metadata": {},
   "outputs": [],
   "source": [
    "k = 1e7 # Distance scaling parameter\n",
    "m = 5.9742e24 # Earth mass\n",
    "M = 1898.7e27 # Jupiter mass\n",
    "G = 6.67259e-17 # Universal gravitational constant\n",
    "t = 1e5 # Time scaling parameter\n",
    "\n",
    "# Earth coordinates\n",
    "earth = pos_x, pos_y = 0, 550\n",
    "# Earth speed\n",
    "vel_x, vel_y = 300, 0\n",
    "jupiter = 700, 150 # Jupiter coordinates\n",
    "v_j = 3 # Jupiter speed"
   ]
  },
  {
   "cell_type": "code",
   "execution_count": 9,
   "id": "32fad869",
   "metadata": {},
   "outputs": [],
   "source": [
    "# Ground and wood coordinate difference\n",
    "delta_x = (jupiter[0]-earth[0]) * k\n",
    "delta_y = (jupiter[1]-earth[1]) * k\n",
    "# Ground wood distance squared\n",
    "r2 = delta_x ** 2 + delta_y ** 2\n",
    "# Gravity between ground and wood, the law of universal gravitation\n",
    "F = G * m * M/r2\n",
    "# Floor wood included angle\n",
    "theta = math.acos(delta_x/r2 ** 0.5)\n",
    "# x, y axis gravity component\n",
    "fx = abs(F * math.cos(theta)) * np.sign(delta_x)\n",
    "fy = abs(F * math.sin(theta)) * np.sign(delta_y)\n",
    "# x, y axis acceleration, Newton’s second law F = ma\n",
    "ax = fx/m\n",
    "ay = fy/m\n",
    "# Speed change, vt = v0 + at\n",
    "vel_x += ax * t\n",
    "vel_y += ay * t\n",
    "# Displacement change, st = s0 + vt\n",
    "pos_x += vel_x * t/k\n",
    "pos_y += vel_y * t/k"
   ]
  },
  {
   "cell_type": "code",
   "execution_count": null,
   "id": "cb7f7c97",
   "metadata": {},
   "outputs": [],
   "source": [
    "# Import the standard modules\n",
    "import sqlite3\n",
    "import spiceypy\n",
    "\n",
    "# Import the installed modules\n",
    "import pandas as pd\n",
    "import numpy as np\n",
    "\n",
    "# Import matplotlib for plotting\n",
    "from matplotlib import pyplot as plt\n",
    "\n",
    "# Import scipy for the Kernel Density Estimator functionality\n",
    "from scipy import stats"
   ]
  }
 ],
 "metadata": {
  "kernelspec": {
   "display_name": "Python 3 (ipykernel)",
   "language": "python",
   "name": "python3"
  },
  "language_info": {
   "codemirror_mode": {
    "name": "ipython",
    "version": 3
   },
   "file_extension": ".py",
   "mimetype": "text/x-python",
   "name": "python",
   "nbconvert_exporter": "python",
   "pygments_lexer": "ipython3",
   "version": "3.9.7"
  }
 },
 "nbformat": 4,
 "nbformat_minor": 5
}
